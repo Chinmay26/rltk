{
 "cells": [
  {
   "cell_type": "markdown",
   "metadata": {
    "deletable": true,
    "editable": true
   },
   "source": [
    "# Similarity\n",
    "\n",
    "RLTK supports many different similarity measurements. For detailed usages and optional settings, please refer to the API References."
   ]
  },
  {
   "cell_type": "code",
   "execution_count": 123,
   "metadata": {
    "collapsed": true,
    "deletable": true,
    "editable": true
   },
   "outputs": [],
   "source": [
    "# this two lines are just for locating the package.\n",
    "import sys\n",
    "sys.path.append('..')\n",
    "\n",
    "import rltk\n",
    "tk = rltk.init()\n",
    "tk.set_root_path('../examples')"
   ]
  },
  {
   "cell_type": "markdown",
   "metadata": {
    "deletable": true,
    "editable": true
   },
   "source": [
    "## Sequence based"
   ]
  },
  {
   "cell_type": "code",
   "execution_count": 124,
   "metadata": {
    "collapsed": false,
    "deletable": true,
    "editable": true
   },
   "outputs": [
    {
     "name": "stdout",
     "output_type": "stream",
     "text": [
      "5\n",
      "0.75\n",
      "0.25\n",
      "5\n"
     ]
    }
   ],
   "source": [
    "# levenshtein measure\n",
    "print tk.levenshtein_distance('John Singer Sargent', 'Jane Klinger Sargent')\n",
    "print tk.levenshtein_similarity('John Singer Sargent', 'Jane Klinger Sargent')\n",
    "print tk.normalized_levenshtein_distance('John Singer Sargent', 'Jane Klinger Sargent')\n",
    "print tk.damerau_levenshtein_distance('John Singer Sargent', 'Jane Klinger Sargent')"
   ]
  },
  {
   "cell_type": "code",
   "execution_count": 125,
   "metadata": {
    "collapsed": false,
    "deletable": true,
    "editable": true
   },
   "outputs": [
    {
     "name": "stdout",
     "output_type": "stream",
     "text": [
      "380\n"
     ]
    }
   ],
   "source": [
    "# weighted levenshtein measure\n",
    "edit_distance_cost = {\n",
    "    'insert': {'l':50}, 'substitute': {'o': {'a': 30}}, \n",
    "    'insert_default':100, 'delete_default':100, 'substitute_default':100\n",
    "}\n",
    "tk.load_edit_distance_table('A1', edit_distance_cost)\n",
    "print tk.levenshtein_distance('John Singer Sargent', 'Jane Klinger Sargent', name='A1')"
   ]
  },
  {
   "cell_type": "code",
   "execution_count": 126,
   "metadata": {
    "collapsed": false,
    "deletable": true,
    "editable": true
   },
   "outputs": [
    {
     "name": "stdout",
     "output_type": "stream",
     "text": [
      "3\n",
      "3\n"
     ]
    }
   ],
   "source": [
    "# hamming\n",
    "print tk.hamming_distance('abc', 'cde')\n",
    "print tk.hamming_similarity([1,2,3], [3,4,5])"
   ]
  },
  {
   "cell_type": "code",
   "execution_count": 127,
   "metadata": {
    "collapsed": false,
    "deletable": true,
    "editable": true
   },
   "outputs": [
    {
     "name": "stdout",
     "output_type": "stream",
     "text": [
      "0.7125\n"
     ]
    }
   ],
   "source": [
    "# needleman wunsch\n",
    "print tk.needleman_wunsch_similarity('John Singer Sargent', 'Jane Klinger Sargent')"
   ]
  },
  {
   "cell_type": "code",
   "execution_count": 128,
   "metadata": {
    "collapsed": false,
    "deletable": true,
    "editable": true,
    "scrolled": true
   },
   "outputs": [
    {
     "name": "stdout",
     "output_type": "stream",
     "text": [
      "0.818629908104\n",
      "0.108822055138\n",
      "0.891177944862\n"
     ]
    }
   ],
   "source": [
    "# jaro\n",
    "print tk.jaro_distance('John Singer Sargent', 'John S. Sargent')\n",
    "print tk.jaro_winkler_distance('John Singer Sargent', 'John S. Sargent')\n",
    "print tk.jaro_winkler_similarity('John Singer Sargent', 'John S. Sargent')"
   ]
  },
  {
   "cell_type": "markdown",
   "metadata": {
    "deletable": true,
    "editable": true
   },
   "source": [
    "## Set / Vector based"
   ]
  },
  {
   "cell_type": "code",
   "execution_count": 129,
   "metadata": {
    "collapsed": true,
    "deletable": true,
    "editable": true
   },
   "outputs": [],
   "source": [
    "set1, set2 = set(['shell', 'chevron', '76']), set(['mobil', '76', 'love'])"
   ]
  },
  {
   "cell_type": "code",
   "execution_count": 130,
   "metadata": {
    "collapsed": false,
    "deletable": true,
    "editable": true
   },
   "outputs": [
    {
     "name": "stdout",
     "output_type": "stream",
     "text": [
      "0.333333333333\n"
     ]
    }
   ],
   "source": [
    "# dice\n",
    "print tk.dice_similarity(set1, set2)"
   ]
  },
  {
   "cell_type": "code",
   "execution_count": 131,
   "metadata": {
    "collapsed": false,
    "deletable": true,
    "editable": true
   },
   "outputs": [
    {
     "name": "stdout",
     "output_type": "stream",
     "text": [
      "0.2\n",
      "0.8\n"
     ]
    }
   ],
   "source": [
    "# jaccard\n",
    "print tk.jaccard_index_similarity(set1, set2)\n",
    "print tk.jaccard_index_distance(set1, set2)"
   ]
  },
  {
   "cell_type": "code",
   "execution_count": 132,
   "metadata": {
    "collapsed": false,
    "deletable": true,
    "editable": true
   },
   "outputs": [
    {
     "name": "stdout",
     "output_type": "stream",
     "text": [
      "0.992583333971\n"
     ]
    }
   ],
   "source": [
    "# cosine\n",
    "print tk.cosine_similarity([1, 2, 3], [2, 3, 4])"
   ]
  },
  {
   "cell_type": "markdown",
   "metadata": {
    "deletable": true,
    "editable": true
   },
   "source": [
    "## Corpus Based"
   ]
  },
  {
   "cell_type": "code",
   "execution_count": 133,
   "metadata": {
    "collapsed": false,
    "deletable": true,
    "editable": true
   },
   "outputs": [
    {
     "name": "stdout",
     "output_type": "stream",
     "text": [
      "0.175411603861\n",
      "0.894427191\n"
     ]
    }
   ],
   "source": [
    "# tf/idf\n",
    "tk.load_df_corpus('B1', 'df_corpus_1.txt', file_type='text', mode='append')\n",
    "tk.load_df_corpus('B2', 'jl_file_1.jsonl', file_type='json_lines', json_path='desc[*]', mode='append')\n",
    "print tk.tf_idf_similarity(['a', 'b', 'a'], ['a', 'c','d','f'], name='B1')\n",
    "print tk.tf_idf_similarity(['abc'], ['abc', 'def'], name='B2')"
   ]
  },
  {
   "cell_type": "markdown",
   "metadata": {
    "deletable": true,
    "editable": true
   },
   "source": [
    "## Phonetic"
   ]
  },
  {
   "cell_type": "code",
   "execution_count": 134,
   "metadata": {
    "collapsed": false,
    "deletable": true,
    "editable": true
   },
   "outputs": [
    {
     "name": "stdout",
     "output_type": "stream",
     "text": [
      "1\n"
     ]
    }
   ],
   "source": [
    "# soundex\n",
    "print tk.soundex_similarity('too', 'to')"
   ]
  },
  {
   "cell_type": "code",
   "execution_count": 135,
   "metadata": {
    "collapsed": false,
    "deletable": true,
    "editable": true
   },
   "outputs": [
    {
     "name": "stdout",
     "output_type": "stream",
     "text": [
      "1\n"
     ]
    }
   ],
   "source": [
    "# metaphone\n",
    "print tk.metaphone_similarity('reel', 'real')"
   ]
  },
  {
   "cell_type": "code",
   "execution_count": 136,
   "metadata": {
    "collapsed": false,
    "deletable": true,
    "editable": true
   },
   "outputs": [
    {
     "name": "stdout",
     "output_type": "stream",
     "text": [
      "1\n"
     ]
    }
   ],
   "source": [
    "# NYSIIS\n",
    "print tk.nysiis_similarity('sale', 'sail')"
   ]
  },
  {
   "cell_type": "markdown",
   "metadata": {
    "deletable": true,
    "editable": true
   },
   "source": [
    "## Hybrid"
   ]
  },
  {
   "cell_type": "code",
   "execution_count": 137,
   "metadata": {
    "collapsed": false,
    "deletable": true,
    "editable": true
   },
   "outputs": [
    {
     "name": "stdout",
     "output_type": "stream",
     "text": [
      "0.844444444444\n"
     ]
    }
   ],
   "source": [
    "# hybrid jaccard\n",
    "print tk.hybrid_jaccard_similarity(set(['john', 'harry', 'potter']), set(['jane', 'carry', 'potter']))"
   ]
  },
  {
   "cell_type": "code",
   "execution_count": 138,
   "metadata": {
    "collapsed": false,
    "deletable": true,
    "editable": true
   },
   "outputs": [
    {
     "name": "stdout",
     "output_type": "stream",
     "text": [
      "0.788888888889\n"
     ]
    }
   ],
   "source": [
    "# monge elkan\n",
    "print tk.monge_elkan_similarity(['john', 'harry', 'potter'], ['jack', 'carry', 'potter'])"
   ]
  },
  {
   "cell_type": "markdown",
   "metadata": {},
   "source": [
    "Every hybrid measurement has a default similarity metric function, you can set it to the function provided by RLTK or you own function."
   ]
  },
  {
   "cell_type": "code",
   "execution_count": 139,
   "metadata": {
    "collapsed": false,
    "deletable": true,
    "editable": true
   },
   "outputs": [
    {
     "name": "stdout",
     "output_type": "stream",
     "text": [
      "0.6\n",
      "0.333333333333\n"
     ]
    }
   ],
   "source": [
    "# user Levenshtein to replace Jaro-Winkler\n",
    "print tk.hybrid_jaccard_similarity(\n",
    "    set(['john', 'harry', 'potter']), set(['jane', 'carry', 'potter']), function=tk.levenshtein_similarity)\n",
    "\n",
    "# self defined function\n",
    "def user_similarity(m ,n):\n",
    "    return m[:2] == n[:2]\n",
    "print tk.hybrid_jaccard_similarity(\n",
    "    set(['john', 'harry', 'potter']), set(['jane', 'carry', 'potter']), function=user_similarity)"
   ]
  }
 ],
 "metadata": {
  "kernelspec": {
   "display_name": "Python 2",
   "language": "python",
   "name": "python2"
  },
  "language_info": {
   "codemirror_mode": {
    "name": "ipython",
    "version": 2
   },
   "file_extension": ".py",
   "mimetype": "text/x-python",
   "name": "python",
   "nbconvert_exporter": "python",
   "pygments_lexer": "ipython2",
   "version": "2.7.12"
  }
 },
 "nbformat": 4,
 "nbformat_minor": 0
}
