{
 "cells": [
  {
   "cell_type": "markdown",
   "metadata": {
    "deletable": true,
    "editable": true
   },
   "source": [
    "# Similarity\n",
    "\n",
    "RLTK supports many different similarity measurements. For detailed usage and optional settings, please refer to the API References."
   ]
  },
  {
   "cell_type": "code",
   "execution_count": 40,
   "metadata": {
    "collapsed": true,
    "deletable": true,
    "editable": true
   },
   "outputs": [],
   "source": [
    "# this two lines are just for locating the package.\n",
    "import sys\n",
    "sys.path.append('..')\n",
    "\n",
    "import rltk\n",
    "tk = rltk.init()\n",
    "tk.set_root_path('../examples')"
   ]
  },
  {
   "cell_type": "markdown",
   "metadata": {
    "deletable": true,
    "editable": true
   },
   "source": [
    "## Sequence based"
   ]
  },
  {
   "cell_type": "code",
   "execution_count": 41,
   "metadata": {
    "collapsed": false,
    "deletable": true,
    "editable": true
   },
   "outputs": [
    {
     "name": "stdout",
     "output_type": "stream",
     "text": [
      "5\n",
      "0.75\n",
      "0.25\n",
      "5\n"
     ]
    }
   ],
   "source": [
    "# levenshtein measure\n",
    "print tk.levenshtein_distance('John Singer Sargent', 'Jane Klinger Sargent')\n",
    "print tk.levenshtein_similarity('John Singer Sargent', 'Jane Klinger Sargent')\n",
    "print tk.normalized_levenshtein_distance('John Singer Sargent', 'Jane Klinger Sargent')\n",
    "print tk.damerau_levenshtein_distance('John Singer Sargent', 'Jane Klinger Sargent')"
   ]
  },
  {
   "cell_type": "code",
   "execution_count": 42,
   "metadata": {
    "collapsed": false,
    "deletable": true,
    "editable": true
   },
   "outputs": [
    {
     "name": "stdout",
     "output_type": "stream",
     "text": [
      "500\n"
     ]
    }
   ],
   "source": [
    "# weighted levenshtein measure\n",
    "edit_distance_cost = {'insert': {'c':50}, 'insert_default':100, 'delete_default':100, 'substitute_default':100}\n",
    "tk.load_edit_distance_table('A1', edit_distance_cost)\n",
    "print tk.levenshtein_distance('John Singer Sargent', 'Jane Klinger Sargent', name='A1')"
   ]
  },
  {
   "cell_type": "code",
   "execution_count": 43,
   "metadata": {
    "collapsed": false,
    "deletable": true,
    "editable": true
   },
   "outputs": [
    {
     "name": "stdout",
     "output_type": "stream",
     "text": [
      "3\n",
      "3\n"
     ]
    }
   ],
   "source": [
    "# hamming\n",
    "print tk.hamming_distance('abc', 'cde')\n",
    "print tk.hamming_similarity([1,2,3], [3,4,5])"
   ]
  },
  {
   "cell_type": "code",
   "execution_count": 44,
   "metadata": {
    "collapsed": false,
    "deletable": true,
    "editable": true
   },
   "outputs": [
    {
     "name": "stdout",
     "output_type": "stream",
     "text": [
      "0.7125\n"
     ]
    }
   ],
   "source": [
    "# needleman wunsch\n",
    "print tk.needleman_wunsch_similarity('John Singer Sargent', 'Jane Klinger Sargent')"
   ]
  },
  {
   "cell_type": "code",
   "execution_count": 45,
   "metadata": {
    "collapsed": false,
    "deletable": true,
    "editable": true,
    "scrolled": true
   },
   "outputs": [
    {
     "name": "stdout",
     "output_type": "stream",
     "text": [
      "0.818629908104\n",
      "0.108822055138\n",
      "0.891177944862\n"
     ]
    }
   ],
   "source": [
    "# jaro\n",
    "print tk.jaro_distance('John Singer Sargent', 'John S. Sargent')\n",
    "print tk.jaro_winkler_distance('John Singer Sargent', 'John S. Sargent')\n",
    "print tk.jaro_winkler_similarity('John Singer Sargent', 'John S. Sargent')"
   ]
  },
  {
   "cell_type": "markdown",
   "metadata": {
    "deletable": true,
    "editable": true
   },
   "source": [
    "## Set / Vector based"
   ]
  },
  {
   "cell_type": "code",
   "execution_count": 46,
   "metadata": {
    "collapsed": true,
    "deletable": true,
    "editable": true
   },
   "outputs": [],
   "source": [
    "set1, set2 = set([1, 2, 3]), set([3, 4, 5])"
   ]
  },
  {
   "cell_type": "code",
   "execution_count": 47,
   "metadata": {
    "collapsed": false,
    "deletable": true,
    "editable": true
   },
   "outputs": [
    {
     "name": "stdout",
     "output_type": "stream",
     "text": [
      "0.333333333333\n"
     ]
    }
   ],
   "source": [
    "# dice\n",
    "print tk.dice_similarity(set1, set2)"
   ]
  },
  {
   "cell_type": "code",
   "execution_count": 48,
   "metadata": {
    "collapsed": false,
    "deletable": true,
    "editable": true
   },
   "outputs": [
    {
     "name": "stdout",
     "output_type": "stream",
     "text": [
      "0.2\n",
      "0.8\n"
     ]
    }
   ],
   "source": [
    "# jaccard\n",
    "print tk.jaccard_index_similarity(set1, set2)\n",
    "print tk.jaccard_index_distance(set1, set2)"
   ]
  },
  {
   "cell_type": "code",
   "execution_count": 49,
   "metadata": {
    "collapsed": false,
    "deletable": true,
    "editable": true
   },
   "outputs": [
    {
     "name": "stdout",
     "output_type": "stream",
     "text": [
      "0.992583333971\n"
     ]
    }
   ],
   "source": [
    "# cosine\n",
    "print tk.cosine_similarity([1, 2, 3], [2, 3, 4])"
   ]
  },
  {
   "cell_type": "markdown",
   "metadata": {
    "deletable": true,
    "editable": true
   },
   "source": [
    "## Corpus Based"
   ]
  },
  {
   "cell_type": "code",
   "execution_count": 50,
   "metadata": {
    "collapsed": false,
    "deletable": true,
    "editable": true
   },
   "outputs": [
    {
     "name": "stdout",
     "output_type": "stream",
     "text": [
      "0.175411603861\n",
      "0.894427191\n"
     ]
    }
   ],
   "source": [
    "# tf/idf\n",
    "tk.load_df_corpus('B1', 'df_corpus_1.txt', file_type='text', mode='append')\n",
    "tk.load_df_corpus('B2', 'jl_file_1.jsonl', file_type='json_lines', json_path='desc[*]', mode='append')\n",
    "print tk.tf_idf_similarity(['a', 'b', 'a'], ['a', 'c','d','f'], name='B1')\n",
    "print tk.tf_idf_similarity(['abc'], ['abc', 'def'], name='B2')"
   ]
  },
  {
   "cell_type": "markdown",
   "metadata": {
    "deletable": true,
    "editable": true
   },
   "source": [
    "## Phonetic"
   ]
  },
  {
   "cell_type": "code",
   "execution_count": 51,
   "metadata": {
    "collapsed": false,
    "deletable": true,
    "editable": true
   },
   "outputs": [
    {
     "name": "stdout",
     "output_type": "stream",
     "text": [
      "1\n"
     ]
    }
   ],
   "source": [
    "# soundex\n",
    "print tk.soundex_similarity('too', 'to')"
   ]
  },
  {
   "cell_type": "code",
   "execution_count": 52,
   "metadata": {
    "collapsed": false,
    "deletable": true,
    "editable": true
   },
   "outputs": [
    {
     "name": "stdout",
     "output_type": "stream",
     "text": [
      "1\n"
     ]
    }
   ],
   "source": [
    "# metaphone\n",
    "print tk.metaphone_similarity('reel', 'real')"
   ]
  },
  {
   "cell_type": "code",
   "execution_count": 53,
   "metadata": {
    "collapsed": false,
    "deletable": true,
    "editable": true
   },
   "outputs": [
    {
     "name": "stdout",
     "output_type": "stream",
     "text": [
      "1\n"
     ]
    }
   ],
   "source": [
    "# NYSIIS\n",
    "print tk.nysiis_similarity('sale', 'sail')"
   ]
  },
  {
   "cell_type": "markdown",
   "metadata": {
    "deletable": true,
    "editable": true
   },
   "source": [
    "## Hybrid"
   ]
  },
  {
   "cell_type": "code",
   "execution_count": 54,
   "metadata": {
    "collapsed": false,
    "deletable": true,
    "editable": true
   },
   "outputs": [
    {
     "name": "stdout",
     "output_type": "stream",
     "text": [
      "0.333333333333\n"
     ]
    }
   ],
   "source": [
    "# hybrid jaccard\n",
    "print tk.hybrid_jaccard_similarity(set(['a', 'b', 'c']), set(['a', 'd', 'f']))"
   ]
  },
  {
   "cell_type": "code",
   "execution_count": 55,
   "metadata": {
    "collapsed": false,
    "deletable": true,
    "editable": true
   },
   "outputs": [
    {
     "name": "stdout",
     "output_type": "stream",
     "text": [
      "0.333333333333\n"
     ]
    }
   ],
   "source": [
    "# monge elkan\n",
    "print tk.monge_elkan_similarity(['a', 'b', 'c'], ['a', 'd', 'f'])"
   ]
  },
  {
   "cell_type": "code",
   "execution_count": 56,
   "metadata": {
    "collapsed": false,
    "deletable": true,
    "editable": true
   },
   "outputs": [
    {
     "name": "stdout",
     "output_type": "stream",
     "text": [
      "0.533333333333\n"
     ]
    }
   ],
   "source": [
    "# self defined function\n",
    "def hybrid_test_similarity(m ,n):\n",
    "    if m == 'a' and n == 'p':\n",
    "        return 0.7\n",
    "    if m == 'a' and n == 'q':\n",
    "        return 0.8\n",
    "    if m == 'b' and n == 'p':\n",
    "        return 0.5\n",
    "    if m == 'b' and n == 'q':\n",
    "        return 0.9\n",
    "    if m == 'c' and n == 'p':\n",
    "        return 0.2\n",
    "    if m == 'c' and n == 'q':\n",
    "        return 0.1\n",
    "\n",
    "print tk.hybrid_jaccard_similarity(set(['a','b','c']), set(['p', 'q']), function=hybrid_test_similarity)"
   ]
  },
  {
   "cell_type": "code",
   "execution_count": null,
   "metadata": {
    "collapsed": true
   },
   "outputs": [],
   "source": []
  }
 ],
 "metadata": {
  "kernelspec": {
   "display_name": "Python 2",
   "language": "python",
   "name": "python2"
  },
  "language_info": {
   "codemirror_mode": {
    "name": "ipython",
    "version": 2
   },
   "file_extension": ".py",
   "mimetype": "text/x-python",
   "name": "python",
   "nbconvert_exporter": "python",
   "pygments_lexer": "ipython2",
   "version": "2.7.12"
  }
 },
 "nbformat": 4,
 "nbformat_minor": 2
}
